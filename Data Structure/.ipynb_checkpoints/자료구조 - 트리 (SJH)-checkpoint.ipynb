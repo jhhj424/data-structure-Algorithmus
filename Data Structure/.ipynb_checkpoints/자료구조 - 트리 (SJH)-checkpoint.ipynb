{
 "cells": [
  {
   "cell_type": "markdown",
   "metadata": {},
   "source": [
    "### 트리 (Tree) 구조\n",
    " - 트리: Node와 Branch를 이용해서 사이클을 이루지 않도록 구성한 데이터 구조\n",
    " - 트리 중 이진 트리(Binary Tree) 형태의 구조로, 탐색(검색) 알고리즘 구현을 위해 많이 사용됨"
   ]
  },
  {
   "cell_type": "markdown",
   "metadata": {},
   "source": [
    "#### 알아둘 용어\n",
    " - Node: 트리에서 데이터를 저장하는 기본 요소(데이터와 다른 연결된 노드에 대한 Branch 정보 포함)\n",
    " - Root Node: 트리 맨 위에 있는 노드\n",
    " - Level: 최상단 노드의 위치를 높이로 표현한것, 노드의 깊이(Depth)\n",
    " - Depth: 트리에서 Node가 가질 수 있는 최대 Level\n",
    " - Parent Node: Branch상단의 노드\n",
    " - Child Node: Branch하단의 노드\n",
    " - Sibling (Brother Node): 동일한 Parent Node를 가진 노드\n",
    " - Leaf Node ( Terminal Node): Child Node가 하나도 없는 노드"
   ]
  },
  {
   "cell_type": "markdown",
   "metadata": {},
   "source": [
    "#### 이진 트리 (Binary Tree)와 이진 탐색 트리 (Binary Search Tree)\n",
    " - 이진 트리: 노드의 최대 Branch가 2인 트리\n",
    " - 이진 탐색 트리 (Binary Search Tree, BST): 이진트리에 조건이 추가 된 트리\n",
    "   - 왼쪽 노드는 해당 노드보다 작은 값, 오른쪽 노드는 해당 노드보다 큰 값을 가지고 있음"
   ]
  },
  {
   "cell_type": "code",
   "execution_count": null,
   "metadata": {},
   "outputs": [],
   "source": []
  }
 ],
 "metadata": {
  "kernelspec": {
   "display_name": "Python 3",
   "language": "python",
   "name": "python3"
  },
  "language_info": {
   "codemirror_mode": {
    "name": "ipython",
    "version": 3
   },
   "file_extension": ".py",
   "mimetype": "text/x-python",
   "name": "python",
   "nbconvert_exporter": "python",
   "pygments_lexer": "ipython3",
   "version": "3.7.4"
  }
 },
 "nbformat": 4,
 "nbformat_minor": 2
}
