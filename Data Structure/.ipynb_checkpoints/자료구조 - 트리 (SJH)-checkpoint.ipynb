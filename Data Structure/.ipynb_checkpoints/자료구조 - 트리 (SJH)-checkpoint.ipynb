{
 "cells": [
  {
   "cell_type": "markdown",
   "metadata": {},
   "source": [
    "### 트리 (Tree) 구조\n",
    " - 트리: Node와 Branch를 이용해서 사이클을 이루지 않도록 구성한 데이터 구조\n",
    " - 트리 중 이진 트리(Binary Tree) 형태의 구조로, 탐색(검색) 알고리즘 구현을 위해 많이 사용됨"
   ]
  },
  {
   "cell_type": "markdown",
   "metadata": {},
   "source": [
    "#### 알아둘 용어\n",
    " - Node: 트리에서 데이터를 저장하는 기본 요소(데이터와 다른 연결된 노드에 대한 Branch 정보 포함)\n",
    " - Root Node: 트리 맨 위에 있는 노드\n",
    " - Level: 최상단 노드의 위치를 높이로 표현한것, 노드의 깊이(Depth)\n",
    " - Depth: 트리에서 Node가 가질 수 있는 최대 Level\n",
    " - Parent Node: Branch상단의 노드\n",
    " - Child Node: Branch하단의 노드\n",
    " - Sibling (Brother Node): 동일한 Parent Node를 가진 노드\n",
    " - Leaf Node ( Terminal Node): Child Node가 하나도 없는 노드"
   ]
  },
  {
   "cell_type": "markdown",
   "metadata": {},
   "source": [
    "#### 이진 트리 (Binary Tree)와 이진 탐색 트리 (Binary Search Tree)\n",
    " - 이진 트리: 노드의 최대 Branch가 2인 트리\n",
    " - 이진 탐색 트리 (Binary Search Tree, BST): 이진트리에 조건이 추가 된 트리\n",
    "   - 왼쪽 노드는 해당 노드보다 작은 값, 오른쪽 노드는 해당 노드보다 큰 값을 가지고 있음"
   ]
  },
  {
   "cell_type": "markdown",
   "metadata": {},
   "source": [
    "### 이진 탐색 트리 (Binary Search Tree) \n",
    "\n",
    "#### 링크드 리스트 만들기\n",
    "\n",
    " - 노드 클래스 만들기"
   ]
  },
  {
   "cell_type": "code",
   "execution_count": 1,
   "metadata": {},
   "outputs": [],
   "source": [
    "class Node:\n",
    "    def __init__(self, value):\n",
    "        self.value = value\n",
    "        self.left = None\n",
    "        self.right = None"
   ]
  },
  {
   "cell_type": "markdown",
   "metadata": {},
   "source": [
    "#### 이진 탐색 트리에 데이터 넣기\n",
    " - 이진 탐색 트리 조건에 부합하게 데이터를 넣기\n"
   ]
  },
  {
   "cell_type": "code",
   "execution_count": 8,
   "metadata": {},
   "outputs": [],
   "source": [
    "class NondMgmt:\n",
    "    def __init__(self,head):\n",
    "        self.head = head\n",
    "    def insert(self, value):\n",
    "        self.current_node = self.head\n",
    "        while True:\n",
    "            if value < self.current_node.value:\n",
    "                if self.current_node.left != None:\n",
    "                    self.current_node = self.current_node.left\n",
    "                else:\n",
    "                    self.current_node.left = Node(value)\n",
    "                    break\n",
    "            else:\n",
    "                if self.current_node.right != None:\n",
    "                    self.current_node = self.current_node.right\n",
    "                else:\n",
    "                    self.current_node.right = Node(value)\n",
    "                    break                    "
   ]
  },
  {
   "cell_type": "code",
   "execution_count": 9,
   "metadata": {},
   "outputs": [],
   "source": [
    "head = Node(1)\n",
    "BST = NondMgmt(head)\n",
    "BST.insert(2)"
   ]
  },
  {
   "cell_type": "markdown",
   "metadata": {},
   "source": [
    "#### 이진 탐색 트리 탐색"
   ]
  },
  {
   "cell_type": "code",
   "execution_count": null,
   "metadata": {},
   "outputs": [],
   "source": []
  }
 ],
 "metadata": {
  "kernelspec": {
   "display_name": "Python 3",
   "language": "python",
   "name": "python3"
  },
  "language_info": {
   "codemirror_mode": {
    "name": "ipython",
    "version": 3
   },
   "file_extension": ".py",
   "mimetype": "text/x-python",
   "name": "python",
   "nbconvert_exporter": "python",
   "pygments_lexer": "ipython3",
   "version": "3.7.4"
  }
 },
 "nbformat": 4,
 "nbformat_minor": 2
}
